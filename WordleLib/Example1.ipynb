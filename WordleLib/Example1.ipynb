{
 "cells": [
  {
   "cell_type": "code",
   "execution_count": 1,
   "id": "459a81bf",
   "metadata": {
    "ExecuteTime": {
     "end_time": "2022-02-04T20:12:33.489445Z",
     "start_time": "2022-02-04T20:12:33.465513Z"
    }
   },
   "outputs": [],
   "source": [
    "#some imports\n",
    "import sys #dirty hack to deal with Python ineptitude of sibling folders\n",
    "sys.path.append(\"..\")\n",
    "\n",
    "from WordleLib import WordleAssistant, WordleAssistant2"
   ]
  },
  {
   "cell_type": "code",
   "execution_count": 2,
   "id": "54de4ffd",
   "metadata": {
    "ExecuteTime": {
     "end_time": "2022-02-04T20:12:34.342328Z",
     "start_time": "2022-02-04T20:12:34.120087Z"
    }
   },
   "outputs": [],
   "source": [
    "WA = WordleAssistant()\n",
    "#WA2 = WordleAssistant2()\n",
    "WA.initWordMeasure()"
   ]
  },
  {
   "cell_type": "code",
   "execution_count": 3,
   "id": "bd4ae816",
   "metadata": {
    "ExecuteTime": {
     "end_time": "2022-02-04T20:12:35.629263Z",
     "start_time": "2022-02-04T20:12:35.603359Z"
    }
   },
   "outputs": [
    {
     "name": "stdout",
     "output_type": "stream",
     "text": [
      "Number of possible words= 8258\n",
      "0 ) arose --> 1.9279\n",
      "1 ) raise --> 1.9187\n",
      "2 ) arise --> 1.9187\n",
      "3 ) serai --> 1.9187\n",
      "4 ) earls --> 1.8909\n",
      "5 ) rales --> 1.8909\n",
      "6 ) laser --> 1.8909\n",
      "7 ) lears --> 1.8909\n",
      "8 ) lares --> 1.8909\n",
      "9 ) reals --> 1.8909\n"
     ]
    }
   ],
   "source": [
    "top=10\n",
    "print('Number of possible words= '+str(WA.getNumPos()))\n",
    "TopList=WA.getTop(top)\n",
    "for i in range(min(top,len(TopList))):\n",
    "    print(str(i)+' ) '+TopList[i][0]+' --> '+f'{TopList[i][1]:.4f}')\n",
    "    "
   ]
  },
  {
   "cell_type": "code",
   "execution_count": 4,
   "id": "af597ee4",
   "metadata": {
    "ExecuteTime": {
     "end_time": "2022-02-04T20:12:38.238649Z",
     "start_time": "2022-02-04T20:12:38.228674Z"
    }
   },
   "outputs": [
    {
     "name": "stdout",
     "output_type": "stream",
     "text": [
      "piano --> 1.3381\n",
      "query --> 1.1097\n"
     ]
    }
   ],
   "source": [
    "lst=['piano','query']\n",
    "for word in lst:\n",
    "    sc=WA.getScore(word)\n",
    "    print(word+f' --> {sc:.4f}')"
   ]
  },
  {
   "cell_type": "code",
   "execution_count": 5,
   "id": "e45c0360",
   "metadata": {
    "ExecuteTime": {
     "end_time": "2022-02-04T20:12:40.199336Z",
     "start_time": "2022-02-04T20:12:40.174401Z"
    }
   },
   "outputs": [
    {
     "name": "stdout",
     "output_type": "stream",
     "text": [
      "Number of remaining possible words= 256\n",
      "0 ) telia --> 2.7759\n",
      "1 ) elain --> 2.7487\n",
      "2 ) tinea --> 2.7364\n",
      "3 ) entia --> 2.7364\n",
      "4 ) tenia --> 2.7364\n",
      "5 ) ideal --> 2.7171\n",
      "6 ) leant --> 2.7085\n",
      "7 ) laten --> 2.7085\n",
      "8 ) ileac --> 2.6947\n",
      "9 ) pilea --> 2.6813\n"
     ]
    }
   ],
   "source": [
    "WA.update('arose',[1,0,0,0,1])\n",
    "print('Number of remaining possible words= '+str(WA.getNumPos()))\n",
    "TopList=WA.getTop(top)\n",
    "for i in range(min(top,len(TopList))):\n",
    "    print(str(i)+' ) '+TopList[i][0]+' --> '+f'{TopList[i][1]:.4f}')   "
   ]
  },
  {
   "cell_type": "code",
   "execution_count": 6,
   "id": "f1eaf8e2",
   "metadata": {
    "ExecuteTime": {
     "end_time": "2022-02-04T20:13:06.762208Z",
     "start_time": "2022-02-04T20:13:06.744222Z"
    }
   },
   "outputs": [
    {
     "name": "stdout",
     "output_type": "stream",
     "text": [
      "Number of remaining possible words= 7\n",
      "0 ) laten --> 4.2140\n",
      "1 ) lated --> 4.1824\n",
      "2 ) cleat --> 4.1600\n",
      "3 ) pleat --> 4.1465\n",
      "4 ) bleat --> 4.1124\n",
      "5 ) latex --> 4.0228\n",
      "6 ) exalt --> 4.0228\n"
     ]
    }
   ],
   "source": [
    "WA.update('telia',[1,1,1,0,1])\n",
    "print('Number of remaining possible words= '+str(WA.getNumPos()))\n",
    "TopList=WA.getTop(top)\n",
    "for i in range(min(top,len(TopList))):\n",
    "    print(str(i)+' ) '+TopList[i][0]+' --> '+f'{TopList[i][1]:.4f}') "
   ]
  },
  {
   "cell_type": "code",
   "execution_count": 7,
   "id": "ec6bd539",
   "metadata": {
    "ExecuteTime": {
     "end_time": "2022-02-04T20:13:24.990069Z",
     "start_time": "2022-02-04T20:13:24.978102Z"
    }
   },
   "outputs": [
    {
     "name": "stdout",
     "output_type": "stream",
     "text": [
      "Number of remaining possible words= 4\n",
      "0 ) cleat --> 4.1600\n",
      "1 ) pleat --> 4.1465\n",
      "2 ) bleat --> 4.1124\n",
      "3 ) exalt --> 4.0228\n"
     ]
    }
   ],
   "source": [
    "WA.update('laten',[1,1,1,1,0])\n",
    "print('Number of remaining possible words= '+str(WA.getNumPos()))\n",
    "TopList=WA.getTop(top)\n",
    "for i in range(min(top,len(TopList))):\n",
    "    print(str(i)+' ) '+TopList[i][0]+' --> '+f'{TopList[i][1]:.4f}') "
   ]
  },
  {
   "cell_type": "code",
   "execution_count": null,
   "id": "24fb7c41",
   "metadata": {
    "ExecuteTime": {
     "end_time": "2022-02-04T20:10:32.387542Z",
     "start_time": "2022-02-04T20:10:32.378566Z"
    }
   },
   "outputs": [],
   "source": [
    "WA.update('plead',[2,2,2,2,0])\n",
    "print('Number of remaining possible words= '+str(WA.getNumPos()))\n",
    "TopList=WA.getTop(top)\n",
    "for i in range(min(top,len(TopList))):\n",
    "    print(str(i)+' ) '+TopList[i][0]+' --> '+f'{TopList[i][1]:.4f}') "
   ]
  },
  {
   "cell_type": "code",
   "execution_count": null,
   "id": "37ef977f",
   "metadata": {},
   "outputs": [],
   "source": []
  }
 ],
 "metadata": {
  "kernelspec": {
   "display_name": "Python 3 (ipykernel)",
   "language": "python",
   "name": "python3"
  },
  "language_info": {
   "codemirror_mode": {
    "name": "ipython",
    "version": 3
   },
   "file_extension": ".py",
   "mimetype": "text/x-python",
   "name": "python",
   "nbconvert_exporter": "python",
   "pygments_lexer": "ipython3",
   "version": "3.7.3"
  },
  "latex_envs": {
   "LaTeX_envs_menu_present": true,
   "autoclose": false,
   "autocomplete": true,
   "bibliofile": "biblio.bib",
   "cite_by": "apalike",
   "current_citInitial": 1,
   "eqLabelWithNumbers": true,
   "eqNumInitial": 1,
   "hotkeys": {
    "equation": "Ctrl-E",
    "itemize": "Ctrl-I"
   },
   "labels_anchors": false,
   "latex_user_defs": false,
   "report_style_numbering": false,
   "user_envs_cfg": false
  },
  "varInspector": {
   "cols": {
    "lenName": 16,
    "lenType": 16,
    "lenVar": 40
   },
   "kernels_config": {
    "python": {
     "delete_cmd_postfix": "",
     "delete_cmd_prefix": "del ",
     "library": "var_list.py",
     "varRefreshCmd": "print(var_dic_list())"
    },
    "r": {
     "delete_cmd_postfix": ") ",
     "delete_cmd_prefix": "rm(",
     "library": "var_list.r",
     "varRefreshCmd": "cat(var_dic_list()) "
    }
   },
   "types_to_exclude": [
    "module",
    "function",
    "builtin_function_or_method",
    "instance",
    "_Feature"
   ],
   "window_display": false
  }
 },
 "nbformat": 4,
 "nbformat_minor": 5
}
