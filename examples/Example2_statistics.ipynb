{
 "cells": [
  {
   "cell_type": "markdown",
   "id": "ef46af77",
   "metadata": {},
   "source": [
    "# Testing the statistics/quality of the Wordle-Assistants #"
   ]
  },
  {
   "cell_type": "code",
   "execution_count": 1,
   "id": "459a81bf",
   "metadata": {
    "ExecuteTime": {
     "end_time": "2022-02-04T20:14:20.934743Z",
     "start_time": "2022-02-04T20:14:19.982539Z"
    }
   },
   "outputs": [],
   "source": [
    "#some imports\n",
    "import numpy as np\n",
    "from tqdm import tqdm\n",
    "import matplotlib.pyplot as plt\n",
    "import sys #dirty hack to deal with Python ineptitude of sibling folders\n",
    "sys.path.append(\"..\")\n",
    "from WordleLib import WordleAssistant, WordleAssistant2\n",
    "\n",
    "#!pip install line_profiler\n",
    "%load_ext line_profiler"
   ]
  },
  {
   "cell_type": "code",
   "execution_count": 2,
   "id": "54de4ffd",
   "metadata": {
    "ExecuteTime": {
     "end_time": "2022-02-04T20:14:21.254700Z",
     "start_time": "2022-02-04T20:14:20.981932Z"
    }
   },
   "outputs": [
    {
     "name": "stdout",
     "output_type": "stream",
     "text": [
      "8258\n"
     ]
    }
   ],
   "source": [
    "# load the assistant\n",
    "wordleSize = 5\n",
    "WA = WordleAssistant(size=wordleSize,dictionary='MyWords.txt')\n",
    "WA.initWordMeasure()\n",
    "#wordset = set(['query','arose','words','cramp','alter','price','verge','color','grief','prime']) #WA.getWordset()\n",
    "wordset = list(WA.getWordset())\n",
    "print(len(wordset))"
   ]
  },
  {
   "cell_type": "code",
   "execution_count": 3,
   "id": "957261d1",
   "metadata": {
    "ExecuteTime": {
     "end_time": "2022-02-04T20:14:21.324796Z",
     "start_time": "2022-02-04T20:14:21.312579Z"
    }
   },
   "outputs": [],
   "source": [
    "#%lprun -f initWA initWA()"
   ]
  },
  {
   "cell_type": "code",
   "execution_count": 4,
   "id": "444f9e54",
   "metadata": {
    "ExecuteTime": {
     "end_time": "2022-02-04T20:17:30.707206Z",
     "start_time": "2022-02-04T20:14:21.372683Z"
    }
   },
   "outputs": [
    {
     "name": "stderr",
     "output_type": "stream",
     "text": [
      "100%|██████████████████████████████████████████████████████████████████████████████| 8258/8258 [03:09<00:00, 43.64it/s]\n"
     ]
    }
   ],
   "source": [
    "#def testrun():\n",
    "# loop over all words\n",
    "guesslist = [[] for i in range(30)] #number of remaining words after guess \"index\"\n",
    "lenlist = list() #how many guesses were needed for each word\n",
    "\n",
    "bar = tqdm(total=WA.getNumPos())\n",
    "for word in wordset:\n",
    "    bar.update(1)\n",
    "    WA.reset()\n",
    "    cnt = 0\n",
    "    OptLen = WA.getNumPos()\n",
    "    wordLST = list(word)\n",
    "    for j in range(100):\n",
    "        guesslist[cnt].append(OptLen)\n",
    "        cnt +=1\n",
    "        topword = WA.getTop(1)[0][0]\n",
    "        QLST = [0 for i in range(wordleSize)]\n",
    "        for i in range(len(topword)):\n",
    "            c = topword[i]\n",
    "            if c in word:\n",
    "                if wordLST[i] == c:\n",
    "                    QLST[i] = 2\n",
    "                else:\n",
    "                    QLST[i] = 1\n",
    "        #print(str(cnt)+') guess='+topword+' -> '+str(QLST)+' for true word: '+word+' #words='+str(OptLen))\n",
    "        if sum(QLST)==(2*wordleSize):\n",
    "            lenlist.append(cnt)\n",
    "            break #the guess was correct\n",
    "        #If the word isn't correct yet, perform an update\n",
    "        WA.update(topword,QLST)\n",
    "        OptLen = WA.getNumPos()\n",
    "bar.close()        "
   ]
  },
  {
   "cell_type": "code",
   "execution_count": 5,
   "id": "21b29d2c",
   "metadata": {
    "ExecuteTime": {
     "end_time": "2022-02-04T20:17:30.767046Z",
     "start_time": "2022-02-04T20:17:30.756078Z"
    }
   },
   "outputs": [],
   "source": [
    "#%lprun -f testrun testrun()"
   ]
  },
  {
   "cell_type": "code",
   "execution_count": 6,
   "id": "43fd4d5b",
   "metadata": {
    "ExecuteTime": {
     "end_time": "2022-02-04T20:17:30.842855Z",
     "start_time": "2022-02-04T20:17:30.828882Z"
    }
   },
   "outputs": [
    {
     "name": "stdout",
     "output_type": "stream",
     "text": [
      "--------------------------------------------------------\n",
      "* errors: 2*sigma\n",
      "Total number of words : 8258\n",
      "The mean number of guesses is : 4.678 +- 3.113\n",
      "The minimum->maximum number of guesses is : 1 (1x) -> 14 (2x)\n"
     ]
    }
   ],
   "source": [
    "#print(\"Total number of guesses= \"+str(lenlist))\n",
    "#print(\"Number of words after each guess =\"+str(guesslist[0:]))\n",
    "\n",
    "print(\"--------------------------------------------------------\")\n",
    "print(\"* errors: 2*sigma\")\n",
    "print(\"Total number of words : \"+str(len(wordset)))\n",
    "print(f\"The mean number of guesses is : {np.mean(lenlist):.3f} +- {2*np.std(lenlist):.3f}\")\n",
    "print(f\"The minimum->maximum number of guesses is : {np.min(lenlist)} ({lenlist.count(np.min(lenlist))}x) -> {np.max(lenlist)} ({lenlist.count(np.max(lenlist))}x)\")"
   ]
  },
  {
   "cell_type": "code",
   "execution_count": 7,
   "id": "1e9ccd8b",
   "metadata": {
    "ExecuteTime": {
     "end_time": "2022-02-04T20:17:31.876407Z",
     "start_time": "2022-02-04T20:17:30.888721Z"
    }
   },
   "outputs": [
    {
     "data": {
      "image/png": "[encoded data removed]",
      "text/plain": [
       "<Figure size 432x288 with 1 Axes>"
      ]
     },
     "metadata": {
      "needs_background": "light"
     },
     "output_type": "display_data"
    }
   ],
   "source": [
    "plt.hist(lenlist, bins = np.arange(-0.5,15.5,1.0))\n",
    "plt.show()"
   ]
  },
  {
   "cell_type": "code",
   "execution_count": 8,
   "id": "e60fa24a",
   "metadata": {
    "ExecuteTime": {
     "end_time": "2022-02-04T20:17:31.951187Z",
     "start_time": "2022-02-04T20:17:31.923232Z"
    }
   },
   "outputs": [
    {
     "name": "stdout",
     "output_type": "stream",
     "text": [
      "step   1) mean #words remaining =  8258.00 +-   0.00 ( #cases=   8258 )\n",
      "step   2) mean #words remaining =   240.15 +- 174.43 ( #cases=   8257 )\n",
      "step   3) mean #words remaining =    22.57 +-  25.60 ( #cases=   8106 )\n",
      "step   4) mean #words remaining =     6.79 +-   8.97 ( #cases=   6583 )\n",
      "step   5) mean #words remaining =     4.70 +-   6.11 ( #cases=   3742 )\n",
      "step   6) mean #words remaining =     4.15 +-   4.55 ( #cases=   1863 )\n",
      "step   7) mean #words remaining =     3.60 +-   3.15 ( #cases=    937 )\n",
      "step   8) mean #words remaining =     3.14 +-   2.07 ( #cases=    467 )\n",
      "step   9) mean #words remaining =     2.68 +-   1.48 ( #cases=    234 )\n",
      "step  10) mean #words remaining =     2.32 +-   1.31 ( #cases=    112 )\n",
      "step  11) mean #words remaining =     2.29 +-   1.05 ( #cases=     45 )\n",
      "step  12) mean #words remaining =     1.90 +-   0.83 ( #cases=     20 )\n",
      "step  13) mean #words remaining =     1.57 +-   0.49 ( #cases=      7 )\n",
      "step  14) mean #words remaining =     1.00 +-   0.00 ( #cases=      2 )\n"
     ]
    }
   ],
   "source": [
    "for i in range(np.max(lenlist)):\n",
    "    print(f\"step {i+1:3}) mean #words remaining = {np.mean(guesslist[i]):8.2f} +- {np.std(guesslist[i]):6.2f} ( #cases= {len(guesslist[i]):6} )\")"
   ]
  },
  {
   "cell_type": "code",
   "execution_count": null,
   "id": "bba820f3",
   "metadata": {},
   "outputs": [],
   "source": []
  }
 ],
 "metadata": {
  "kernelspec": {
   "display_name": "Python 3 (ipykernel)",
   "language": "python",
   "name": "python3"
  },
  "language_info": {
   "codemirror_mode": {
    "name": "ipython",
    "version": 3
   },
   "file_extension": ".py",
   "mimetype": "text/x-python",
   "name": "python",
   "nbconvert_exporter": "python",
   "pygments_lexer": "ipython3",
   "version": "3.7.3"
  },
  "latex_envs": {
   "LaTeX_envs_menu_present": true,
   "autoclose": false,
   "autocomplete": true,
   "bibliofile": "biblio.bib",
   "cite_by": "apalike",
   "current_citInitial": 1,
   "eqLabelWithNumbers": true,
   "eqNumInitial": 1,
   "hotkeys": {
    "equation": "Ctrl-E",
    "itemize": "Ctrl-I"
   },
   "labels_anchors": false,
   "latex_user_defs": false,
   "report_style_numbering": false,
   "user_envs_cfg": false
  },
  "varInspector": {
   "cols": {
    "lenName": 16,
    "lenType": 16,
    "lenVar": 40
   },
   "kernels_config": {
    "python": {
     "delete_cmd_postfix": "",
     "delete_cmd_prefix": "del ",
     "library": "var_list.py",
     "varRefreshCmd": "print(var_dic_list())"
    },
    "r": {
     "delete_cmd_postfix": ") ",
     "delete_cmd_prefix": "rm(",
     "library": "var_list.r",
     "varRefreshCmd": "cat(var_dic_list()) "
    }
   },
   "types_to_exclude": [
    "module",
    "function",
    "builtin_function_or_method",
    "instance",
    "_Feature"
   ],
   "window_display": false
  }
 },
 "nbformat": 4,
 "nbformat_minor": 5
}
