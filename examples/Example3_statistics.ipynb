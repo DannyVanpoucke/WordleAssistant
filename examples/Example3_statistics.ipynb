{
 "cells": [
  {
   "cell_type": "markdown",
   "id": "ef46af77",
   "metadata": {},
   "source": [
    "# Testing the statistics/quality of the Wordle-Assistants #"
   ]
  },
  {
   "cell_type": "code",
   "execution_count": 1,
   "id": "459a81bf",
   "metadata": {
    "ExecuteTime": {
     "end_time": "2022-02-04T20:14:27.756831Z",
     "start_time": "2022-02-04T20:14:26.889099Z"
    }
   },
   "outputs": [],
   "source": [
    "#some imports\n",
    "import numpy as np\n",
    "from tqdm import tqdm\n",
    "import matplotlib.pyplot as plt\n",
    "import sys #dirty hack to deal with Python ineptitude of sibling folders\n",
    "sys.path.append(\"..\")\n",
    "from WordleLib import WordleAssistant2\n",
    "\n",
    "#!pip install line_profiler\n",
    "%load_ext line_profiler"
   ]
  },
  {
   "cell_type": "code",
   "execution_count": 2,
   "id": "54de4ffd",
   "metadata": {
    "ExecuteTime": {
     "end_time": "2022-02-04T20:14:28.071936Z",
     "start_time": "2022-02-04T20:14:27.803653Z"
    }
   },
   "outputs": [
    {
     "name": "stdout",
     "output_type": "stream",
     "text": [
      "8258\n"
     ]
    }
   ],
   "source": [
    "# load the assistant\n",
    "wordleSize = 5\n",
    "WA = WordleAssistant2(size=wordleSize,dictionary='MyWords.txt')\n",
    "WA.initWordMeasure()\n",
    "#wordset = set(['query','arose','words','cramp','alter','price','verge','color','grief','prime']) #WA.getWordset()\n",
    "wordset = list(WA.getWordset())\n",
    "print(len(wordset))"
   ]
  },
  {
   "cell_type": "code",
   "execution_count": 3,
   "id": "957261d1",
   "metadata": {
    "ExecuteTime": {
     "end_time": "2022-02-04T20:14:28.131825Z",
     "start_time": "2022-02-04T20:14:28.118812Z"
    }
   },
   "outputs": [],
   "source": [
    "#%lprun -f initWA initWA()"
   ]
  },
  {
   "cell_type": "code",
   "execution_count": 4,
   "id": "444f9e54",
   "metadata": {
    "ExecuteTime": {
     "end_time": "2022-02-04T20:17:39.102098Z",
     "start_time": "2022-02-04T20:14:28.177653Z"
    }
   },
   "outputs": [
    {
     "name": "stderr",
     "output_type": "stream",
     "text": [
      "100%|██████████████████████████████████████████████████████████████████████████████| 8258/8258 [03:10<00:00, 43.26it/s]\n"
     ]
    }
   ],
   "source": [
    "#def testrun():\n",
    "# loop over all words\n",
    "guesslist = [[] for i in range(30)] #number of remaining words after guess \"index\"\n",
    "lenlist = list() #how many guesses were needed for each word\n",
    "\n",
    "bar = tqdm(total=WA.getNumPos())\n",
    "for word in wordset:\n",
    "    bar.update(1)\n",
    "    WA.reset()\n",
    "    cnt = 0\n",
    "    OptLen = WA.getNumPos()\n",
    "    wordLST = list(word)\n",
    "    for j in range(100):\n",
    "        guesslist[cnt].append(OptLen)\n",
    "        cnt +=1\n",
    "        topword = WA.getTop(1)[0][0]\n",
    "        QLST = [0 for i in range(wordleSize)]\n",
    "        for i in range(len(topword)):\n",
    "            c = topword[i]\n",
    "            if c in word:\n",
    "                if wordLST[i] == c:\n",
    "                    QLST[i] = 2\n",
    "                else:\n",
    "                    QLST[i] = 1\n",
    "        #print(str(cnt)+') guess='+topword+' -> '+str(QLST)+' for true word: '+word+' #words='+str(OptLen))\n",
    "        if sum(QLST)==(2*wordleSize):\n",
    "            lenlist.append(cnt)\n",
    "            break #the guess was correct\n",
    "        #If the word isn't correct yet, perform an update\n",
    "        WA.update(topword,QLST)\n",
    "        OptLen = WA.getNumPos()\n",
    "bar.close()        "
   ]
  },
  {
   "cell_type": "code",
   "execution_count": 5,
   "id": "21b29d2c",
   "metadata": {
    "ExecuteTime": {
     "end_time": "2022-02-04T20:17:39.177562Z",
     "start_time": "2022-02-04T20:17:39.163076Z"
    }
   },
   "outputs": [],
   "source": [
    "#%lprun -f testrun testrun()"
   ]
  },
  {
   "cell_type": "code",
   "execution_count": 6,
   "id": "43fd4d5b",
   "metadata": {
    "ExecuteTime": {
     "end_time": "2022-02-04T20:17:39.237707Z",
     "start_time": "2022-02-04T20:17:39.223757Z"
    }
   },
   "outputs": [
    {
     "name": "stdout",
     "output_type": "stream",
     "text": [
      "--------------------------------------------------------\n",
      "* errors: 2*sigma\n",
      "Total number of words : 8258\n",
      "The mean number of guesses is : 4.924 +- 3.135\n",
      "The minimum->maximum number of guesses is : 1 (1x) -> 15 (1x)\n"
     ]
    }
   ],
   "source": [
    "#print(\"Total number of guesses= \"+str(lenlist))\n",
    "#print(\"Number of words after each guess =\"+str(guesslist[0:]))\n",
    "\n",
    "print(\"--------------------------------------------------------\")\n",
    "print(\"* errors: 2*sigma\")\n",
    "print(\"Total number of words : \"+str(len(wordset)))\n",
    "print(f\"The mean number of guesses is : {np.mean(lenlist):.3f} +- {2*np.std(lenlist):.3f}\")\n",
    "print(f\"The minimum->maximum number of guesses is : {np.min(lenlist)} ({lenlist.count(np.min(lenlist))}x) -> {np.max(lenlist)} ({lenlist.count(np.max(lenlist))}x)\")"
   ]
  },
  {
   "cell_type": "code",
   "execution_count": 7,
   "id": "1e9ccd8b",
   "metadata": {
    "ExecuteTime": {
     "end_time": "2022-02-04T20:17:39.478705Z",
     "start_time": "2022-02-04T20:17:39.285534Z"
    }
   },
   "outputs": [
    {
     "data": {
      "image/png": "[encoded data removed]",
      "text/plain": [
       "<Figure size 432x288 with 1 Axes>"
      ]
     },
     "metadata": {
      "needs_background": "light"
     },
     "output_type": "display_data"
    }
   ],
   "source": [
    "plt.hist(lenlist, bins = np.arange(-0.5,15.5,1.0))\n",
    "plt.show()"
   ]
  },
  {
   "cell_type": "code",
   "execution_count": 8,
   "id": "e60fa24a",
   "metadata": {
    "ExecuteTime": {
     "end_time": "2022-02-04T20:17:39.539294Z",
     "start_time": "2022-02-04T20:17:39.525332Z"
    }
   },
   "outputs": [
    {
     "name": "stdout",
     "output_type": "stream",
     "text": [
      "step   1) mean #words =  8258.00 +-   0.00 ( #cases=   8258 )\n",
      "step   2) mean #words =   332.65 +- 281.28 ( #cases=   8257 )\n",
      "step   3) mean #words =    35.77 +-  42.05 ( #cases=   8142 )\n",
      "step   4) mean #words =     9.69 +-  13.65 ( #cases=   7003 )\n",
      "step   5) mean #words =     4.96 +-   6.25 ( #cases=   4504 )\n",
      "step   6) mean #words =     3.96 +-   4.23 ( #cases=   2347 )\n",
      "step   7) mean #words =     3.36 +-   2.89 ( #cases=   1153 )\n",
      "step   8) mean #words =     2.96 +-   2.26 ( #cases=    559 )\n",
      "step   9) mean #words =     2.54 +-   1.47 ( #cases=    254 )\n",
      "step  10) mean #words =     2.17 +-   1.29 ( #cases=    116 )\n",
      "step  11) mean #words =     2.05 +-   1.26 ( #cases=     44 )\n",
      "step  12) mean #words =     2.07 +-   1.24 ( #cases=     15 )\n",
      "step  13) mean #words =     2.20 +-   0.98 ( #cases=      5 )\n",
      "step  14) mean #words =     2.00 +-   0.00 ( #cases=      2 )\n",
      "step  15) mean #words =     1.00 +-   0.00 ( #cases=      1 )\n"
     ]
    }
   ],
   "source": [
    "for i in range(np.max(lenlist)):\n",
    "    print(f\"step {i+1:3}) mean #words = {np.mean(guesslist[i]):8.2f} +- {np.std(guesslist[i]):6.2f} ( #cases= {len(guesslist[i]):6} )\")"
   ]
  },
  {
   "cell_type": "code",
   "execution_count": null,
   "id": "bba820f3",
   "metadata": {},
   "outputs": [],
   "source": []
  }
 ],
 "metadata": {
  "kernelspec": {
   "display_name": "Python 3 (ipykernel)",
   "language": "python",
   "name": "python3"
  },
  "language_info": {
   "codemirror_mode": {
    "name": "ipython",
    "version": 3
   },
   "file_extension": ".py",
   "mimetype": "text/x-python",
   "name": "python",
   "nbconvert_exporter": "python",
   "pygments_lexer": "ipython3",
   "version": "3.7.3"
  },
  "latex_envs": {
   "LaTeX_envs_menu_present": true,
   "autoclose": false,
   "autocomplete": true,
   "bibliofile": "biblio.bib",
   "cite_by": "apalike",
   "current_citInitial": 1,
   "eqLabelWithNumbers": true,
   "eqNumInitial": 1,
   "hotkeys": {
    "equation": "Ctrl-E",
    "itemize": "Ctrl-I"
   },
   "labels_anchors": false,
   "latex_user_defs": false,
   "report_style_numbering": false,
   "user_envs_cfg": false
  },
  "varInspector": {
   "cols": {
    "lenName": 16,
    "lenType": 16,
    "lenVar": 40
   },
   "kernels_config": {
    "python": {
     "delete_cmd_postfix": "",
     "delete_cmd_prefix": "del ",
     "library": "var_list.py",
     "varRefreshCmd": "print(var_dic_list())"
    },
    "r": {
     "delete_cmd_postfix": ") ",
     "delete_cmd_prefix": "rm(",
     "library": "var_list.r",
     "varRefreshCmd": "cat(var_dic_list()) "
    }
   },
   "types_to_exclude": [
    "module",
    "function",
    "builtin_function_or_method",
    "instance",
    "_Feature"
   ],
   "window_display": false
  }
 },
 "nbformat": 4,
 "nbformat_minor": 5
}
